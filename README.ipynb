{
 "cells": [
  {
   "cell_type": "markdown",
   "metadata": {},
   "source": [
    "# Analiza LTI sustava uz pomoć Pythona\n",
    "\n",
    "Kao pomoć u analizi stabilnosti LTI sustava može poslužiti Python sa Sympy, Python Control Systems Library i Matplotlib knjižnicama.  \n",
    "\n",
    "### Anaconda\n",
    "\n",
    "Anaconda je Python distribucija namjenjena inžinjerima i znanstvenicima.  \n",
    "U svom paketu dolazi sa više Python alata i knjižnica za simboličku i numeričku matematiku te grafičke prikaze.  \n",
    "Alati koji se koriste za automatiku i analizu LTI sustava su Spyder, Jupyter Notebook te knjižnice Sympy, Numpy, Matplotlib i Python Control Systems Library.  \n",
    "Također je moguće instalirati i ostale Python knjižnice, recimo Python Control Systems Library.\n",
    "\n",
    "### Jupyter Notebook\n",
    "\n",
    "Jupyter Notebook je interaktivna bilježnica s ugrađenim Python interpreterom te mogućnošću uređivanja teksta Markdown jezikom.  \n",
    "Aplikacija se pokreće u web pregledniku, npr. Chrome, Firefox. Moguće je instalirati ju na server ili lokalno, u ovom slučaju koristimo lokalnu inačicu.\n",
    "Ovo omogućava jednostavno i estetski uredno vođenje bilježaka te rješavanja zadataka u Python interpreteru.  \n",
    "Kod i tekst se unose u blokovima, te se isto tako procesiraju u blokovima, blokove je moguće jednostavno i brzo kopirati s jednog mjesta na drugo no treba imati na umu da se kod procesira u interpreteru te je vrijeme izvršavanja svakog bloka bitno, kao i u standardnom interpreteru moramo paziti kojim redosljedom se naredbe izvršavaju.  \n",
    "Uz pomoć Sympy knjižnice moguće je rezultate prikazivati u LaTeX formatu.\n",
    "\n",
    "### Postupak analize\n",
    "\n",
    "U ovom radu obraditi ću:  \n",
    "* Metode manupulacije funkcija Sympy funkcijama.\n",
    "* Rješavanje sustava jednadžbi za dobivanje prijenosne funkcije.\n",
    "* Bodeov dijagram.\n",
    "* Fazno i amplitudno osiguranje.\n",
    "* Položaj polova i nula u Re-Im koordinatnom sustavu.\n",
    "* Numeričko računanje odziva sustava na standardne funkcije.\n",
    "* Analitičko utvrđivanje odziva sustava na standardne funkcije.\n",
    "* Routhov kriterij stabilnosti.\n",
    "* Područja stabilnosti sustava."
   ]
  }
 ],
 "metadata": {
  "kernelspec": {
   "display_name": "Python 3",
   "language": "python",
   "name": "python3"
  },
  "language_info": {
   "codemirror_mode": {
    "name": "ipython",
    "version": 3
   },
   "file_extension": ".py",
   "mimetype": "text/x-python",
   "name": "python",
   "nbconvert_exporter": "python",
   "pygments_lexer": "ipython3",
   "version": "3.7.3"
  }
 },
 "nbformat": 4,
 "nbformat_minor": 2
}

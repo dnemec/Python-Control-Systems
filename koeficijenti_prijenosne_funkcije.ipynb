{
 "cells": [
  {
   "cell_type": "markdown",
   "metadata": {},
   "source": [
    "# Koeficijenti prijenosne funkcije\n",
    "Za razne operacije proracuna stabilnosti sustava potrebno je prijenosnu funkciju pojednostaviti, rasclaniti, odvojiti brojnik i nazivnik u zasebne varijable te potom odvojiti sve koeficijente uz potencije s-a u zasebne varijable.\n",
    "\n",
    "Bez toga nije moguce odraditi hurwitzov i routhov kriterij stabilnosti.\n",
    "\n",
    "Python funkcije koje se koriste za ove operacije dio su ```Sympy``` knjiznice.\n",
    "```python\n",
    "* symbols\n",
    "* poly\n",
    "* simplify\n",
    "* expand\n",
    "* fraction\n",
    "```\n",
    "\n",
    "### Primjer s brojcanim koeficijentima"
   ]
  },
  {
   "cell_type": "markdown",
   "metadata": {},
   "source": [
    "Za pocetak potrebno je obrisati sve varijable iz memorije."
   ]
  },
  {
   "cell_type": "code",
   "execution_count": 1,
   "metadata": {},
   "outputs": [
    {
     "data": {
      "text/plain": [
       "0"
      ]
     },
     "execution_count": 1,
     "metadata": {},
     "output_type": "execute_result"
    }
   ],
   "source": [
    "import os\n",
    "clear = lambda: os.system('cls')\n",
    "clear()"
   ]
  },
  {
   "cell_type": "code",
   "execution_count": 2,
   "metadata": {},
   "outputs": [],
   "source": [
    "from sympy.interactive import printing\n",
    "printing.init_printing(use_latex=True)\n",
    "from sympy import symbols, poly, simplify, expand, fraction"
   ]
  },
  {
   "cell_type": "markdown",
   "metadata": {},
   "source": [
    "Potrebno je definirati sva imena matematickih varijabli koje koristimo."
   ]
  },
  {
   "cell_type": "code",
   "execution_count": 3,
   "metadata": {},
   "outputs": [],
   "source": [
    "s = symbols('s')"
   ]
  },
  {
   "cell_type": "markdown",
   "metadata": {},
   "source": [
    "Potenciranje u pythonu vrsimo s ```**``` u obliku ```VARIJABLA**POTENCIJA```"
   ]
  },
  {
   "cell_type": "code",
   "execution_count": 4,
   "metadata": {},
   "outputs": [
    {
     "data": {
      "image/png": "[encoded data removed]",
      "text/latex": [
       "$$\\frac{1}{\\left(s + 6\\right) \\left(s^{2} + 2\\right)}$$"
      ],
      "text/plain": [
       "       1        \n",
       "────────────────\n",
       "        ⎛ 2    ⎞\n",
       "(s + 6)⋅⎝s  + 2⎠"
      ]
     },
     "metadata": {},
     "output_type": "display_data"
    }
   ],
   "source": [
    "tf = (1 / ((s+6)*(s**2+2)))\n",
    "display(tf)"
   ]
  },
  {
   "cell_type": "markdown",
   "metadata": {},
   "source": [
    "Funkciju mozemo razviti u polinom putem funkcije ```expand()```"
   ]
  },
  {
   "cell_type": "code",
   "execution_count": 5,
   "metadata": {},
   "outputs": [
    {
     "data": {
      "image/png": "[encoded data removed]",
      "text/latex": [
       "$$\\frac{1}{s^{3} + 6 s^{2} + 2 s + 12}$$"
      ],
      "text/plain": [
       "         1          \n",
       "────────────────────\n",
       " 3      2           \n",
       "s  + 6⋅s  + 2⋅s + 12"
      ]
     },
     "metadata": {},
     "output_type": "display_data"
    }
   ],
   "source": [
    "tf_simp = expand(tf)\n",
    "display(tf_simp)"
   ]
  },
  {
   "cell_type": "markdown",
   "metadata": {},
   "source": [
    "Koeficijente uz ```S^n``` mozemo dobiti putem funkcije ```poly(n, s)```\n",
    "No za to je prvo potrebno odvojiti brojnik i nazivnik"
   ]
  },
  {
   "cell_type": "code",
   "execution_count": 6,
   "metadata": {},
   "outputs": [
    {
     "data": {
      "image/png": "[encoded data removed]",
      "text/latex": [
       "$$1$$"
      ],
      "text/plain": [
       "1"
      ]
     },
     "metadata": {},
     "output_type": "display_data"
    },
    {
     "data": {
      "image/png": "[encoded data removed]",
      "text/latex": [
       "$$s^{3} + 6 s^{2} + 2 s + 12$$"
      ],
      "text/plain": [
       " 3      2           \n",
       "s  + 6⋅s  + 2⋅s + 12"
      ]
     },
     "metadata": {},
     "output_type": "display_data"
    }
   ],
   "source": [
    "brojnik, nazivnik = fraction(tf_simp)\n",
    "display(brojnik)\n",
    "display(nazivnik)"
   ]
  },
  {
   "cell_type": "markdown",
   "metadata": {},
   "source": [
    "Sada kada smo odvojili brojnik i nazvinik u zasebne varijable mozemo primjeniti ```poly()``` funkciju"
   ]
  },
  {
   "cell_type": "code",
   "execution_count": 7,
   "metadata": {},
   "outputs": [
    {
     "data": {
      "image/png": "[encoded data removed]",
      "text/latex": [
       "$$\\operatorname{Poly}{\\left( s^{3} + 6 s^{2} + 2 s + 12, s, domain=\\mathbb{Z} \\right)}$$"
      ],
      "text/plain": [
       "Poly(s**3 + 6*s**2 + 2*s + 12, s, domain='ZZ')"
      ]
     },
     "metadata": {},
     "output_type": "display_data"
    }
   ],
   "source": [
    "s_coeffs = poly(nazivnik, s)\n",
    "display(s_coeffs)"
   ]
  },
  {
   "cell_type": "markdown",
   "metadata": {},
   "source": [
    "Za matricu koeficijenata potrebno je primjeniti funkciju ```coeffs()```"
   ]
  },
  {
   "cell_type": "code",
   "execution_count": 8,
   "metadata": {},
   "outputs": [
    {
     "data": {
      "image/png": "[encoded data removed]",
      "text/latex": [
       "$$\\left [ 1, \\quad 6, \\quad 2, \\quad 12\\right ]$$"
      ],
      "text/plain": [
       "[1, 6, 2, 12]"
      ]
     },
     "metadata": {},
     "output_type": "display_data"
    }
   ],
   "source": [
    "s_coeffs = s_coeffs.coeffs()\n",
    "display(s_coeffs)"
   ]
  },
  {
   "cell_type": "markdown",
   "metadata": {},
   "source": [
    "Koeficijenti su zapisani u matricu obrnutim redoslijedom nego sto inace zapisujemo, na prvom mjestu je koeficijent uz najvisi eksponent s-a stoga treba paziti u izvlacenju koeficijenata."
   ]
  },
  {
   "cell_type": "code",
   "execution_count": 9,
   "metadata": {},
   "outputs": [
    {
     "data": {
      "image/png": "[encoded data removed]",
      "text/latex": [
       "$$12$$"
      ],
      "text/plain": [
       "12"
      ]
     },
     "metadata": {},
     "output_type": "display_data"
    },
    {
     "data": {
      "image/png": "[encoded data removed]",
      "text/latex": [
       "$$2$$"
      ],
      "text/plain": [
       "2"
      ]
     },
     "metadata": {},
     "output_type": "display_data"
    },
    {
     "data": {
      "image/png": "[encoded data removed]",
      "text/latex": [
       "$$6$$"
      ],
      "text/plain": [
       "6"
      ]
     },
     "metadata": {},
     "output_type": "display_data"
    },
    {
     "data": {
      "image/png": "[encoded data removed]",
      "text/latex": [
       "$$1$$"
      ],
      "text/plain": [
       "1"
      ]
     },
     "metadata": {},
     "output_type": "display_data"
    }
   ],
   "source": [
    "s0 = s_coeffs[3]\n",
    "s1 = s_coeffs[2]\n",
    "s2 = s_coeffs[1]\n",
    "s3 = s_coeffs[0]\n",
    "display(s0, s1, s2, s3)"
   ]
  },
  {
   "cell_type": "markdown",
   "metadata": {},
   "source": [
    "Na ovaj nacin smo odvojili koeficijente uz eksponente s-a u zasebne varijable ```s0``` ```s1``` ```s2``` i ```s3```.\n",
    "U ovom slucaju radi se o brojcanim koeficijentima, no na isti nacin bi smo odvojili i koeficijente u obliku simbolickih varijabli."
   ]
  },
  {
   "cell_type": "markdown",
   "metadata": {},
   "source": [
    "### Primjer s simbolickim koeficijentima"
   ]
  },
  {
   "cell_type": "code",
   "execution_count": 10,
   "metadata": {},
   "outputs": [],
   "source": [
    "k, m = symbols('k m')"
   ]
  },
  {
   "cell_type": "code",
   "execution_count": 11,
   "metadata": {},
   "outputs": [
    {
     "data": {
      "image/png": "[encoded data removed]",
      "text/latex": [
       "$$\\frac{1}{\\left(4 k^{2} + s^{2}\\right) \\left(2 k + 4 m + s\\right)}$$"
      ],
      "text/plain": [
       "             1             \n",
       "───────────────────────────\n",
       "⎛   2    2⎞                \n",
       "⎝4⋅k  + s ⎠⋅(2⋅k + 4⋅m + s)"
      ]
     },
     "metadata": {},
     "output_type": "display_data"
    }
   ],
   "source": [
    "tf = (1 / ((s+(2*k+4*m))*(s**2+(k**2*4))))\n",
    "display(tf)"
   ]
  },
  {
   "cell_type": "code",
   "execution_count": 12,
   "metadata": {},
   "outputs": [
    {
     "data": {
      "image/png": "[encoded data removed]",
      "text/latex": [
       "$$\\frac{1}{8 k^{3} + 16 k^{2} m + 4 k^{2} s + 2 k s^{2} + 4 m s^{2} + s^{3}}$$"
      ],
      "text/plain": [
       "                      1                       \n",
       "──────────────────────────────────────────────\n",
       "   3       2        2          2        2    3\n",
       "8⋅k  + 16⋅k ⋅m + 4⋅k ⋅s + 2⋅k⋅s  + 4⋅m⋅s  + s "
      ]
     },
     "metadata": {},
     "output_type": "display_data"
    }
   ],
   "source": [
    "tf_simp = expand(tf)\n",
    "display(tf_simp)"
   ]
  },
  {
   "cell_type": "code",
   "execution_count": 13,
   "metadata": {},
   "outputs": [
    {
     "data": {
      "image/png": "[encoded data removed]",
      "text/latex": [
       "$$1$$"
      ],
      "text/plain": [
       "1"
      ]
     },
     "metadata": {},
     "output_type": "display_data"
    },
    {
     "data": {
      "image/png": "[encoded data removed]",
      "text/latex": [
       "$$8 k^{3} + 16 k^{2} m + 4 k^{2} s + 2 k s^{2} + 4 m s^{2} + s^{3}$$"
      ],
      "text/plain": [
       "   3       2        2          2        2    3\n",
       "8⋅k  + 16⋅k ⋅m + 4⋅k ⋅s + 2⋅k⋅s  + 4⋅m⋅s  + s "
      ]
     },
     "metadata": {},
     "output_type": "display_data"
    }
   ],
   "source": [
    "brojnik, nazivnik = fraction(tf_simp)\n",
    "display(brojnik)\n",
    "display(nazivnik)"
   ]
  },
  {
   "cell_type": "code",
   "execution_count": 14,
   "metadata": {},
   "outputs": [
    {
     "data": {
      "image/png": "[encoded data removed]",
      "text/latex": [
       "$$\\operatorname{Poly}{\\left( s^{3} + \\left(2 k + 4 m\\right) s^{2} + 4 k^{2} s + 8 k^{3} + 16 k^{2} m, s, domain=\\mathbb{Z}\\left[k, m\\right] \\right)}$$"
      ],
      "text/plain": [
       "Poly(s**3 + (2*k + 4*m)*s**2 + 4*k**2*s + 8*k**3 + 16*k**2*m, s, domain='ZZ[k,\n",
       "m]')"
      ]
     },
     "metadata": {},
     "output_type": "display_data"
    }
   ],
   "source": [
    "s_coeffs = poly(nazivnik, s)\n",
    "display(s_coeffs)"
   ]
  },
  {
   "cell_type": "code",
   "execution_count": 15,
   "metadata": {},
   "outputs": [
    {
     "data": {
      "image/png": "[encoded data removed]",
      "text/latex": [
       "$$\\left [ 1, \\quad 2 k + 4 m, \\quad 4 k^{2}, \\quad 8 k^{3} + 16 k^{2} m\\right ]$$"
      ],
      "text/plain": [
       "⎡                 2     3       2  ⎤\n",
       "⎣1, 2⋅k + 4⋅m, 4⋅k , 8⋅k  + 16⋅k ⋅m⎦"
      ]
     },
     "metadata": {},
     "output_type": "display_data"
    }
   ],
   "source": [
    "s_coeffs = s_coeffs.coeffs()\n",
    "display(s_coeffs)"
   ]
  },
  {
   "cell_type": "code",
   "execution_count": 16,
   "metadata": {},
   "outputs": [
    {
     "data": {
      "image/png": "[encoded data removed]",
      "text/latex": [
       "$$8 k^{3} + 16 k^{2} m$$"
      ],
      "text/plain": [
       "   3       2  \n",
       "8⋅k  + 16⋅k ⋅m"
      ]
     },
     "metadata": {},
     "output_type": "display_data"
    },
    {
     "data": {
      "image/png": "[encoded data removed]",
      "text/latex": [
       "$$4 k^{2}$$"
      ],
      "text/plain": [
       "   2\n",
       "4⋅k "
      ]
     },
     "metadata": {},
     "output_type": "display_data"
    },
    {
     "data": {
      "image/png": "[encoded data removed]",
      "text/latex": [
       "$$2 k + 4 m$$"
      ],
      "text/plain": [
       "2⋅k + 4⋅m"
      ]
     },
     "metadata": {},
     "output_type": "display_data"
    },
    {
     "data": {
      "image/png": "[encoded data removed]",
      "text/latex": [
       "$$1$$"
      ],
      "text/plain": [
       "1"
      ]
     },
     "metadata": {},
     "output_type": "display_data"
    }
   ],
   "source": [
    "s0 = s_coeffs[3]\n",
    "s1 = s_coeffs[2]\n",
    "s2 = s_coeffs[1]\n",
    "s3 = s_coeffs[0]\n",
    "display(s0, s1, s2, s3)"
   ]
  }
 ],
 "metadata": {
  "kernelspec": {
   "display_name": "Python 3",
   "language": "python",
   "name": "python3"
  },
  "language_info": {
   "codemirror_mode": {
    "name": "ipython",
    "version": 3
   },
   "file_extension": ".py",
   "mimetype": "text/x-python",
   "name": "python",
   "nbconvert_exporter": "python",
   "pygments_lexer": "ipython3",
   "version": "3.7.3"
  }
 },
 "nbformat": 4,
 "nbformat_minor": 2
}

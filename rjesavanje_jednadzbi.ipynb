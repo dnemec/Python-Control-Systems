{
 "cells": [
  {
   "cell_type": "markdown",
   "metadata": {},
   "source": [
    "# Rjesavanje jednadzbi za dobivanje prijenosne funkcije\n",
    "\n",
    "Da bi smo dobili prijenosnu funkciju sustava potrebno je rjesiti sustav jednadzbi koje definiraju sustav, u elektrotehnici su to npr. jednadzbe dobivene metodom konturnih struji, napona cvorova ili nekom metodom koja opisuje strujno-naponske zavisnosti unutar sustava.\n",
    "\n",
    "Python funkcije koje se koriste za ove operacije dio su ```Sympy``` knjiznice.\n",
    "```python\n",
    "* Eq\n",
    "* solve_linear_system\n",
    "* symbols\n",
    "* Function\n",
    "```"
   ]
  },
  {
   "cell_type": "markdown",
   "metadata": {},
   "source": [
    "Za pocetak potrebno je obrisati sve varijable iz memorije."
   ]
  },
  {
   "cell_type": "code",
   "execution_count": 1,
   "metadata": {},
   "outputs": [
    {
     "data": {
      "text/plain": [
       "0"
      ]
     },
     "execution_count": 1,
     "metadata": {},
     "output_type": "execute_result"
    }
   ],
   "source": [
    "import os\n",
    "clear = lambda: os.system('cls')\n",
    "clear()"
   ]
  },
  {
   "cell_type": "markdown",
   "metadata": {},
   "source": [
    "Potom importati sve funkcije koje koristimo."
   ]
  },
  {
   "cell_type": "code",
   "execution_count": 2,
   "metadata": {},
   "outputs": [],
   "source": [
    "from sympy.interactive import printing\n",
    "printing.init_printing(use_latex=True)\n",
    "from sympy import Eq, solve_linear_system, symbols, Function\n",
    "from sympy.solvers import solve\n",
    "import sympy as sp"
   ]
  },
  {
   "cell_type": "markdown",
   "metadata": {},
   "source": [
    "### Primjer: Linearni elektricni sustav (Izvor: N.Stojkovic, N.Mijat - Teorija mreza i linija (Zbirka zadataka), zadatak 3.05)"
   ]
  },
  {
   "cell_type": "markdown",
   "metadata": {},
   "source": [
    "Za pocetak je potrebno definirati sva imena matematickih varijabli koje koristimo kao Sympy simbole."
   ]
  },
  {
   "cell_type": "code",
   "execution_count": 3,
   "metadata": {},
   "outputs": [],
   "source": [
    "Uul, Uiz = symbols('Uul Uiz')\n",
    "Z1, Z2 = symbols('Z1 Z2')\n",
    "I1, I2 = symbols('I1 I2')\n",
    "r = symbols('r')\n",
    "Tf = symbols('Tf')\n",
    "s = symbols('s')\n",
    "L1, L2 = symbols('L1 L2')"
   ]
  },
  {
   "cell_type": "markdown",
   "metadata": {},
   "source": [
    "1.) Postavimo jednadzbe koje opisuju sustav."
   ]
  },
  {
   "cell_type": "code",
   "execution_count": 4,
   "metadata": {},
   "outputs": [
    {
     "data": {
      "image/png": "[encoded data removed]",
      "text/latex": [
       "$$Uul = I_{2} Z_{1} + I_{2} Z_{2} + Uiz$$"
      ],
      "text/plain": [
       "Uul = I₂⋅Z₁ + I₂⋅Z₂ + Uiz"
      ]
     },
     "metadata": {},
     "output_type": "display_data"
    }
   ],
   "source": [
    "eq = Eq(Uul, I2*Z1 + Uiz + I2*Z2)\n",
    "display(eq)"
   ]
  },
  {
   "cell_type": "code",
   "execution_count": 5,
   "metadata": {},
   "outputs": [
    {
     "name": "stdout",
     "output_type": "stream",
     "text": [
      "I2 =\n"
     ]
    },
    {
     "data": {
      "image/png": "[encoded data removed]",
      "text/latex": [
       "$$\\frac{Uul}{r}$$"
      ],
      "text/plain": [
       "Uul\n",
       "───\n",
       " r "
      ]
     },
     "metadata": {},
     "output_type": "display_data"
    }
   ],
   "source": [
    "i2 = (1/r) * Uul\n",
    "print('I2 =')\n",
    "display(i2)"
   ]
  },
  {
   "cell_type": "markdown",
   "metadata": {},
   "source": [
    "Za supstituiranje I2 u gornjoj jednadzbi s izrazom za I2 potrebno je koristiti funkciju ```.subs()```\n",
    "\n",
    "Funkcija ```.subs()``` kao argument ima varijablu koju supstituiramo te izraz koji unosi ta supstitucija.\n",
    "Simbol (Matematicka varijabla) i python varijabla ne smiju imati isto ime, no ukoliko nam je simbol ```I2```, a python varijabla ```i2``` tada mozemo supstituirati simbol s izrazom za ```I2``` koji je spremljen kao python varijabla ```i2```.\n",
    "Iz tog razloga je gornja jednadzba zapisana kao ```i2=...``` a ne ```I2=...```.\n",
    "\n",
    "```.subs(VARIJABLA, IZRAZ)```, u ovom slucaju:"
   ]
  },
  {
   "cell_type": "code",
   "execution_count": 6,
   "metadata": {},
   "outputs": [
    {
     "data": {
      "image/png": "[encoded data removed]",
      "text/latex": [
       "$$Uul = Uiz + \\frac{Uul Z_{1}}{r} + \\frac{Uul Z_{2}}{r}$$"
      ],
      "text/plain": [
       "            Uul⋅Z₁   Uul⋅Z₂\n",
       "Uul = Uiz + ────── + ──────\n",
       "              r        r   "
      ]
     },
     "metadata": {},
     "output_type": "display_data"
    }
   ],
   "source": [
    "eq = eq.subs(I2, i2)\n",
    "display(eq)"
   ]
  },
  {
   "cell_type": "markdown",
   "metadata": {},
   "source": [
    "Isto smo mogli napraviti s:\n",
    "\n",
    "```python\n",
    "eq = eq.subs(I2, (1/r) * Uul)\n",
    "```\n",
    "\n",
    "\n",
    "jer je u memoriji racunala (1/r) * Uul spremljeno kao i2."
   ]
  },
  {
   "cell_type": "markdown",
   "metadata": {},
   "source": [
    "Sada kada smo dobili izraz iz kojeg mozemo izluciti ```Uul``` te ```Uiz```, samim time dobiti prijenosnu funkciju ```Tf = Uiz/Uul``` potrebno je rjesiti jednadzbu za varijablu ```Uul``` uz pomoc funkcije ```solve()```, to ce nam dati izraz u obliku ```Uul = ...```"
   ]
  },
  {
   "cell_type": "code",
   "execution_count": 7,
   "metadata": {},
   "outputs": [
    {
     "data": {
      "image/png": "[encoded data removed]",
      "text/latex": [
       "$$\\left [ \\frac{Uiz r}{- Z_{1} - Z_{2} + r}\\right ]$$"
      ],
      "text/plain": [
       "⎡   Uiz⋅r    ⎤\n",
       "⎢────────────⎥\n",
       "⎣-Z₁ - Z₂ + r⎦"
      ]
     },
     "metadata": {},
     "output_type": "display_data"
    }
   ],
   "source": [
    "Uul = solve(eq, Uul)\n",
    "display(Uul)"
   ]
  },
  {
   "cell_type": "markdown",
   "metadata": {},
   "source": [
    "Vidimo da je zapis u obliku matrice, s matricom ne mozemo raditi daljnje potrebne operacije stoga je potrebno izvuci izraz iz matrice i spremiti ga u \"obicnu\" varijablu.\n",
    "Kako je ovo matrica samo s jednim poljem dovoljno je napraviti sljedece:"
   ]
  },
  {
   "cell_type": "code",
   "execution_count": 8,
   "metadata": {},
   "outputs": [
    {
     "data": {
      "image/png": "[encoded data removed]",
      "text/latex": [
       "$$\\frac{Uiz r}{- Z_{1} - Z_{2} + r}$$"
      ],
      "text/plain": [
       "   Uiz⋅r    \n",
       "────────────\n",
       "-Z₁ - Z₂ + r"
      ]
     },
     "metadata": {},
     "output_type": "display_data"
    }
   ],
   "source": [
    "Uul = Uul[0]\n",
    "display(Uul)"
   ]
  },
  {
   "cell_type": "markdown",
   "metadata": {},
   "source": [
    "Sada kada imamo definiran izraz za ```Uul``` mozemo jednostavno definirati ```Tf``` kao ```Uiz/Uul``` te dobiti prijenosnu funkciju."
   ]
  },
  {
   "cell_type": "code",
   "execution_count": 9,
   "metadata": {},
   "outputs": [
    {
     "data": {
      "image/png": "[encoded data removed]",
      "text/latex": [
       "$$\\frac{- Z_{1} - Z_{2} + r}{r}$$"
      ],
      "text/plain": [
       "-Z₁ - Z₂ + r\n",
       "────────────\n",
       "     r      "
      ]
     },
     "metadata": {},
     "output_type": "display_data"
    }
   ],
   "source": [
    "Tf = Uiz/Uul\n",
    "display(Tf)"
   ]
  },
  {
   "cell_type": "markdown",
   "metadata": {},
   "source": [
    "```Z1``` i ```Z2``` mozemo supstituirati kao ```sL1``` i ```sL2``` putem funkcije ```.subs()``` kao u ranijem koraku."
   ]
  },
  {
   "cell_type": "code",
   "execution_count": 10,
   "metadata": {},
   "outputs": [
    {
     "data": {
      "image/png": "[encoded data removed]",
      "text/latex": [
       "$$\\frac{- L_{1} s - L_{2} s + r}{r}$$"
      ],
      "text/plain": [
       "-L₁⋅s - L₂⋅s + r\n",
       "────────────────\n",
       "       r        "
      ]
     },
     "metadata": {},
     "output_type": "display_data"
    }
   ],
   "source": [
    "Tf = Tf.subs(Z1, s*L1)\n",
    "Tf = Tf.subs(Z2, s*L2)\n",
    "display(Tf)"
   ]
  },
  {
   "cell_type": "markdown",
   "metadata": {},
   "source": [
    "Potom vrijednosti ```L1```, ```L2``` i ```r``` mozemo unositi istim postupkom supstitucije, npr. ```L1=2```, ```L2=3```, ```r=1/2```"
   ]
  },
  {
   "cell_type": "code",
   "execution_count": 11,
   "metadata": {},
   "outputs": [
    {
     "data": {
      "image/png": "[encoded data removed]",
      "text/latex": [
       "$$- 10.0 s + 1.0$$"
      ],
      "text/plain": [
       "-10.0⋅s + 1.0"
      ]
     },
     "metadata": {},
     "output_type": "display_data"
    }
   ],
   "source": [
    "Tf = Tf.subs(L1, 2)\n",
    "Tf = Tf.subs(L2, 3)\n",
    "Tf = Tf.subs(r, 1/2)\n",
    "display(Tf)"
   ]
  },
  {
   "cell_type": "markdown",
   "metadata": {},
   "source": [
    "Isto smo mogli napraviti na nacin:\n",
    "```python\n",
    "l1 = 2\n",
    "l2 = 3\n",
    "R = 1/2\n",
    "Tf = Tf.subs(L1, l1)\n",
    "Tf = Tf.subs(L2, l2)\n",
    "Tf = Tf.subs(r, R)\n",
    "display(Tf)\n",
    "```"
   ]
  },
  {
   "cell_type": "markdown",
   "metadata": {},
   "source": [
    "### Primjer: Linearni elektricni sustav (sustav vise linearnih jednadzbi)"
   ]
  },
  {
   "cell_type": "code",
   "execution_count": 13,
   "metadata": {},
   "outputs": [],
   "source": [
    "from sympy import linsolve"
   ]
  },
  {
   "cell_type": "code",
   "execution_count": 14,
   "metadata": {},
   "outputs": [],
   "source": [
    "U1, U2 = symbols('U1 U2')\n",
    "I1, I2 = symbols('I1 I2')\n",
    "Tf = symbols('Tf')\n",
    "s = symbols('s')\n",
    "R, L, C = symbols('R L C')"
   ]
  },
  {
   "cell_type": "code",
   "execution_count": 15,
   "metadata": {},
   "outputs": [
    {
     "data": {
      "image/png": "[encoded data removed]",
      "text/latex": [
       "$$I_{1} \\left(L s + R + \\frac{1}{C s}\\right) - \\frac{I_{2}}{C s} = U_{1}$$"
      ],
      "text/plain": [
       "   ⎛           1 ⎞    I₂     \n",
       "I₁⋅⎜L⋅s + R + ───⎟ - ─── = U₁\n",
       "   ⎝          C⋅s⎠   C⋅s     "
      ]
     },
     "metadata": {},
     "output_type": "display_data"
    },
    {
     "data": {
      "image/png": "[encoded data removed]",
      "text/latex": [
       "$$- \\frac{I_{1}}{C s} + \\frac{I_{2}}{C s} = U_{2}$$"
      ],
      "text/plain": [
       "   I₁    I₂     \n",
       "- ─── + ─── = U₂\n",
       "  C⋅s   C⋅s     "
      ]
     },
     "metadata": {},
     "output_type": "display_data"
    }
   ],
   "source": [
    "eq1 = Eq(I1*(R+s*L+(1/(s*C)))-I2*(1/(s*C)), U1)\n",
    "eq2 = Eq(I2*(1/(s*C))-I1*(1/(s*C)), U2)\n",
    "\n",
    "display(eq1)\n",
    "display(eq2)"
   ]
  },
  {
   "cell_type": "markdown",
   "metadata": {},
   "source": [
    "Za supstituiranje dobro je koristiti ime varijable s malim slovom, jer ako se matematicka i python varijabla zovu isto ne moze se supstituirati izravno .subs() funkcijom u obliku eq=eq.subs(I2, I2), no oblik eq=eq.subs(I2, i2) nam daje zeljeni rezultat."
   ]
  },
  {
   "cell_type": "code",
   "execution_count": 16,
   "metadata": {},
   "outputs": [
    {
     "data": {
      "image/png": "[encoded data removed]",
      "text/latex": [
       "$$C U_{2} s + I_{1}$$"
      ],
      "text/plain": [
       "C⋅U₂⋅s + I₁"
      ]
     },
     "metadata": {},
     "output_type": "display_data"
    }
   ],
   "source": [
    "i2 = solve(eq2, I2)\n",
    "i2 = i2[0]\n",
    "display(i2)"
   ]
  },
  {
   "cell_type": "code",
   "execution_count": 17,
   "metadata": {},
   "outputs": [
    {
     "data": {
      "image/png": "[encoded data removed]",
      "text/latex": [
       "$$I_{1} \\left(L s + R + \\frac{1}{C s}\\right) - \\frac{C U_{2} s + I_{1}}{C s} = U_{1}$$"
      ],
      "text/plain": [
       "   ⎛           1 ⎞   C⋅U₂⋅s + I₁     \n",
       "I₁⋅⎜L⋅s + R + ───⎟ - ─────────── = U₁\n",
       "   ⎝          C⋅s⎠       C⋅s         "
      ]
     },
     "metadata": {},
     "output_type": "display_data"
    }
   ],
   "source": [
    "eq11 = eq1.subs(I2, i2)\n",
    "display(eq11)"
   ]
  },
  {
   "cell_type": "code",
   "execution_count": 18,
   "metadata": {},
   "outputs": [
    {
     "data": {
      "image/png": "[encoded data removed]",
      "text/latex": [
       "$$\\frac{C U_{1} s + I_{2}}{C L s^{2} + C R s + 1}$$"
      ],
      "text/plain": [
       "   C⋅U₁⋅s + I₂    \n",
       "──────────────────\n",
       "     2            \n",
       "C⋅L⋅s  + C⋅R⋅s + 1"
      ]
     },
     "metadata": {},
     "output_type": "display_data"
    }
   ],
   "source": [
    "i1 = solve(eq1, I1)\n",
    "i1 = i1[0]\n",
    "display(i1)"
   ]
  },
  {
   "cell_type": "code",
   "execution_count": null,
   "metadata": {},
   "outputs": [],
   "source": []
  }
 ],
 "metadata": {
  "kernelspec": {
   "display_name": "Python 3",
   "language": "python",
   "name": "python3"
  },
  "language_info": {
   "codemirror_mode": {
    "name": "ipython",
    "version": 3
   },
   "file_extension": ".py",
   "mimetype": "text/x-python",
   "name": "python",
   "nbconvert_exporter": "python",
   "pygments_lexer": "ipython3",
   "version": "3.7.3"
  }
 },
 "nbformat": 4,
 "nbformat_minor": 2
}

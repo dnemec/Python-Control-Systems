{
 "cells": [
  {
   "cell_type": "markdown",
   "metadata": {},
   "source": [
    "# Rješavanje jednadžbi za dobivanje prijenosne funkcije\n",
    "\n",
    "U ovom poglavlju biti će opisano rješavanje linearnih jednadžbi supstitucijom, rješavanje sustava linearnih jednadžbi te supstitucije varijabli.\n",
    "\n",
    "Da bi smo dobili prijenosnu funkciju sustava potrebno je rješiti sustav jednadžbi koje definiraju sustav, u elektrotehnici su to npr. jednadžbe dobivene metodom konturnih struji, napona čvorova ili nekom metodom koja opisuje strujno-naponske zavisnosti unutar sustava.\n",
    "\n",
    "Rješavanju jednadžbi potrebno je pristupiti analitički, te standardnim postupcima supstitucije doći do rješenja.\n",
    "\n",
    "Python funkcije koje se koriste za ove operacije dio su ```Sympy``` knjižnice.\n",
    "```python\n",
    "* Eq\n",
    "* symbols\n",
    "* Function\n",
    "* sympy.solvers solve\n",
    "```"
   ]
  },
  {
   "cell_type": "markdown",
   "metadata": {},
   "source": [
    "Za početak potrebno je obrisati sve varijable iz memorije."
   ]
  },
  {
   "cell_type": "code",
   "execution_count": 1,
   "metadata": {},
   "outputs": [
    {
     "data": {
      "text/plain": [
       "0"
      ]
     },
     "execution_count": 1,
     "metadata": {},
     "output_type": "execute_result"
    }
   ],
   "source": [
    "import os\n",
    "clear = lambda: os.system('cls')\n",
    "clear()"
   ]
  },
  {
   "cell_type": "markdown",
   "metadata": {},
   "source": [
    "Potom importati sve funkcije koje koristimo."
   ]
  },
  {
   "cell_type": "code",
   "execution_count": 2,
   "metadata": {},
   "outputs": [],
   "source": [
    "from sympy.interactive import printing\n",
    "printing.init_printing(use_latex=True)\n",
    "\n",
    "from sympy import Eq, symbols, Function\n",
    "from sympy.solvers import solve"
   ]
  },
  {
   "cell_type": "markdown",
   "metadata": {},
   "source": [
    "### Primjer: Linearni električni sustav (Izvor: N.Stojkovic, N.Mijat - Teorija mreža i linija (Zbirka zadataka), zadatak 3.05.)"
   ]
  },
  {
   "cell_type": "markdown",
   "metadata": {},
   "source": [
    "Za početak je potrebno definirati sva imena matematičkih varijabli koje koristimo kao Sympy simbole."
   ]
  },
  {
   "cell_type": "code",
   "execution_count": 3,
   "metadata": {},
   "outputs": [],
   "source": [
    "Uul, Uiz = symbols('Uul Uiz')\n",
    "Z1, Z2 = symbols('Z1 Z2')\n",
    "I1, I2 = symbols('I1 I2')\n",
    "r = symbols('r')\n",
    "Tf = symbols('Tf')\n",
    "s = symbols('s')\n",
    "L1, L2 = symbols('L1 L2')"
   ]
  },
  {
   "cell_type": "markdown",
   "metadata": {},
   "source": [
    "1.) Postavimo jednadžbe koje opisuju sustav."
   ]
  },
  {
   "cell_type": "code",
   "execution_count": 4,
   "metadata": {},
   "outputs": [
    {
     "data": {
      "image/png": "[encoded data removed]",
      "text/latex": [
       "$$Uul = I_{2} Z_{1} + I_{2} Z_{2} + Uiz$$"
      ],
      "text/plain": [
       "Uul = I₂⋅Z₁ + I₂⋅Z₂ + Uiz"
      ]
     },
     "metadata": {},
     "output_type": "display_data"
    }
   ],
   "source": [
    "eq = Eq(Uul, I2*Z1 + Uiz + I2*Z2)\n",
    "display(eq)"
   ]
  },
  {
   "cell_type": "code",
   "execution_count": 5,
   "metadata": {},
   "outputs": [
    {
     "name": "stdout",
     "output_type": "stream",
     "text": [
      "I2 =\n"
     ]
    },
    {
     "data": {
      "image/png": "[encoded data removed]",
      "text/latex": [
       "$$\\frac{Uul}{r}$$"
      ],
      "text/plain": [
       "Uul\n",
       "───\n",
       " r "
      ]
     },
     "metadata": {},
     "output_type": "display_data"
    }
   ],
   "source": [
    "i2 = (1/r) * Uul\n",
    "print('I2 =')\n",
    "display(i2)"
   ]
  },
  {
   "cell_type": "markdown",
   "metadata": {},
   "source": [
    "Za supstituiranje I2 u gornjoj jednadžbi s izrazom za I2 potrebno je koristiti funkciju ```.subs()```\n",
    "\n",
    "Funkcija ```.subs()``` kao argument ima varijablu koju supstituiramo te izraz koji unosi ta supstitucija.\n",
    "Simbol (Matematicka varijabla) i python varijabla ne smiju imati isto ime, no ukoliko nam je simbol ```I2```, a python varijabla ```i2``` tada možemo supstituirati simbol s izrazom za ```I2``` koji je spremljen kao python varijabla ```i2```.\n",
    "Iz tog razloga je gornja jednadžba zapisana kao ```i2=...``` a ne ```I2=...```.\n",
    "\n",
    "```.subs(VARIJABLA, IZRAZ)```, u ovom slučaju:"
   ]
  },
  {
   "cell_type": "code",
   "execution_count": 6,
   "metadata": {},
   "outputs": [
    {
     "data": {
      "image/png": "[encoded data removed]",
      "text/latex": [
       "$$Uul = Uiz + \\frac{Uul Z_{1}}{r} + \\frac{Uul Z_{2}}{r}$$"
      ],
      "text/plain": [
       "            Uul⋅Z₁   Uul⋅Z₂\n",
       "Uul = Uiz + ────── + ──────\n",
       "              r        r   "
      ]
     },
     "metadata": {},
     "output_type": "display_data"
    }
   ],
   "source": [
    "eq = eq.subs(I2, i2)\n",
    "display(eq)"
   ]
  },
  {
   "cell_type": "markdown",
   "metadata": {},
   "source": [
    "Isto smo mogli napraviti s:\n",
    "\n",
    "```python\n",
    "eq = eq.subs(I2, (1/r) * Uul)\n",
    "```\n",
    "\n",
    "\n",
    "jer je u memoriji računala (1/r) * Uul spremljeno kao i2."
   ]
  },
  {
   "cell_type": "markdown",
   "metadata": {},
   "source": [
    "Sada kada smo dobili izraz iz kojeg mozemo izlučiti ```Uul``` te ```Uiz```, samim time dobiti prijenosnu funkciju ```Tf = Uiz/Uul``` potrebno je rješiti jednadžbu za varijablu ```Uul``` uz pomoć funkcije ```solve()```, to će nam dati izraz u obliku ```Uul = ...```"
   ]
  },
  {
   "cell_type": "code",
   "execution_count": 7,
   "metadata": {},
   "outputs": [
    {
     "data": {
      "image/png": "[encoded data removed]",
      "text/latex": [
       "$$\\left [ \\frac{Uiz r}{- Z_{1} - Z_{2} + r}\\right ]$$"
      ],
      "text/plain": [
       "⎡   Uiz⋅r    ⎤\n",
       "⎢────────────⎥\n",
       "⎣-Z₁ - Z₂ + r⎦"
      ]
     },
     "metadata": {},
     "output_type": "display_data"
    }
   ],
   "source": [
    "Uul = solve(eq, Uul)\n",
    "display(Uul)"
   ]
  },
  {
   "cell_type": "markdown",
   "metadata": {},
   "source": [
    "Vidimo da je zapis u obliku matrice, s matricom ne možemo raditi daljnje potrebne operacije stoga je potrebno izvući izraz iz matrice i spremiti ga u \"običnu\" varijablu.  \n",
    "S obzirom da smo jednadžbu rješili samo za jednu varijablu, rezultat je izražen kao samo jedno polje te je dovoljno napraviti sljedeće:"
   ]
  },
  {
   "cell_type": "code",
   "execution_count": 8,
   "metadata": {},
   "outputs": [
    {
     "data": {
      "image/png": "[encoded data removed]",
      "text/latex": [
       "$$\\frac{Uiz r}{- Z_{1} - Z_{2} + r}$$"
      ],
      "text/plain": [
       "   Uiz⋅r    \n",
       "────────────\n",
       "-Z₁ - Z₂ + r"
      ]
     },
     "metadata": {},
     "output_type": "display_data"
    }
   ],
   "source": [
    "Uul = Uul[0]\n",
    "display(Uul)"
   ]
  },
  {
   "cell_type": "markdown",
   "metadata": {},
   "source": [
    "Sada kada imamo definiran izraz za ```Uul``` možemo jednostavno definirati ```Tf``` kao ```Uiz/Uul``` te dobiti prijenosnu funkciju."
   ]
  },
  {
   "cell_type": "code",
   "execution_count": 9,
   "metadata": {},
   "outputs": [
    {
     "data": {
      "image/png": "[encoded data removed]",
      "text/latex": [
       "$$\\frac{- Z_{1} - Z_{2} + r}{r}$$"
      ],
      "text/plain": [
       "-Z₁ - Z₂ + r\n",
       "────────────\n",
       "     r      "
      ]
     },
     "metadata": {},
     "output_type": "display_data"
    }
   ],
   "source": [
    "Tf = Uiz/Uul\n",
    "display(Tf)"
   ]
  },
  {
   "cell_type": "markdown",
   "metadata": {},
   "source": [
    "```Z1``` i ```Z2``` možemo supstituirati kao ```sL1``` i ```sL2``` putem funkcije ```.subs()``` kao u ranijem koraku."
   ]
  },
  {
   "cell_type": "code",
   "execution_count": 10,
   "metadata": {},
   "outputs": [
    {
     "data": {
      "image/png": "[encoded data removed]",
      "text/latex": [
       "$$\\frac{- L_{1} s - L_{2} s + r}{r}$$"
      ],
      "text/plain": [
       "-L₁⋅s - L₂⋅s + r\n",
       "────────────────\n",
       "       r        "
      ]
     },
     "metadata": {},
     "output_type": "display_data"
    }
   ],
   "source": [
    "Tf = Tf.subs(Z1, s*L1)\n",
    "Tf = Tf.subs(Z2, s*L2)\n",
    "display(Tf)"
   ]
  },
  {
   "cell_type": "markdown",
   "metadata": {},
   "source": [
    "Potom vrijednosti ```L1```, ```L2``` i ```r``` možemo unositi istim postupkom supstitucije, npr. ```L1=2```, ```L2=3```, ```r=1/2```"
   ]
  },
  {
   "cell_type": "code",
   "execution_count": 11,
   "metadata": {},
   "outputs": [
    {
     "data": {
      "image/png": "[encoded data removed]",
      "text/latex": [
       "$$- 10.0 s + 1.0$$"
      ],
      "text/plain": [
       "-10.0⋅s + 1.0"
      ]
     },
     "metadata": {},
     "output_type": "display_data"
    }
   ],
   "source": [
    "Tf = Tf.subs(L1, 2)\n",
    "Tf = Tf.subs(L2, 3)\n",
    "Tf = Tf.subs(r, 1/2)\n",
    "display(Tf)"
   ]
  },
  {
   "cell_type": "markdown",
   "metadata": {},
   "source": [
    "Isto smo mogli napraviti na način:\n",
    "```python\n",
    "l1 = 2\n",
    "l2 = 3\n",
    "R = 1/2\n",
    "Tf = Tf.subs(L1, l1)\n",
    "Tf = Tf.subs(L2, l2)\n",
    "Tf = Tf.subs(r, R)\n",
    "display(Tf)\n",
    "```"
   ]
  },
  {
   "cell_type": "markdown",
   "metadata": {},
   "source": [
    "### Primjer: Linearni električni sustav (Izvor: N.Stojkovic, N.Mijat - Teorija mreža i linija (Zbirka zadataka), zadatak 3.12.)"
   ]
  },
  {
   "cell_type": "code",
   "execution_count": 12,
   "metadata": {},
   "outputs": [
    {
     "data": {
      "image/png": "[encoded data removed]",
      "text/latex": [
       "$$0$$"
      ],
      "text/plain": [
       "0"
      ]
     },
     "execution_count": 12,
     "metadata": {},
     "output_type": "execute_result"
    }
   ],
   "source": [
    "import os\n",
    "clear = lambda: os.system('cls')\n",
    "clear()"
   ]
  },
  {
   "cell_type": "code",
   "execution_count": 13,
   "metadata": {},
   "outputs": [],
   "source": [
    "from sympy.interactive import printing\n",
    "printing.init_printing(use_latex=True)\n",
    "\n",
    "from sympy import Eq, symbols, Function\n",
    "from sympy.solvers import solve\n",
    "import sympy as sp"
   ]
  },
  {
   "cell_type": "code",
   "execution_count": 14,
   "metadata": {},
   "outputs": [],
   "source": [
    "U1, U2 = symbols('U1 U2')\n",
    "Uiz, Uul = symbols('Uiz Uul')\n",
    "I1, I2 = symbols('I1 I2')\n",
    "Tf = symbols('Tf')\n",
    "s = symbols('s')\n",
    "R1, R2, L, C = symbols('R1 R2 L C')"
   ]
  },
  {
   "cell_type": "markdown",
   "metadata": {},
   "source": [
    "1) Definiramo jednadžbe"
   ]
  },
  {
   "cell_type": "code",
   "execution_count": 15,
   "metadata": {},
   "outputs": [
    {
     "data": {
      "image/png": "[encoded data removed]",
      "text/latex": [
       "$$U_{1} \\left(C s + \\frac{1}{L s}\\right) - \\frac{Uul}{L s} = 0$$"
      ],
      "text/plain": [
       "   ⎛       1 ⎞   Uul    \n",
       "U₁⋅⎜C⋅s + ───⎟ - ─── = 0\n",
       "   ⎝      L⋅s⎠   L⋅s    "
      ]
     },
     "metadata": {},
     "output_type": "display_data"
    },
    {
     "data": {
      "image/png": "[encoded data removed]",
      "text/latex": [
       "$$U_{2} \\left(\\frac{1}{R_{2}} + \\frac{1}{R_{1}}\\right) - \\frac{Uiz}{R_{1}} = 0$$"
      ],
      "text/plain": [
       "   ⎛1    1 ⎞   Uiz    \n",
       "U₂⋅⎜── + ──⎟ - ─── = 0\n",
       "   ⎝R₂   R₁⎠    R₁    "
      ]
     },
     "metadata": {},
     "output_type": "display_data"
    }
   ],
   "source": [
    "eq1 = Eq(U1 * ((1/(s*L))+s*C) - Uul*(1/(s*L)), 0)\n",
    "eq2 = Eq(U2 * ((1/R1)+(1/R2)) - Uiz*(1/R1), 0)\n",
    "\n",
    "display(eq1)\n",
    "display(eq2)"
   ]
  },
  {
   "cell_type": "markdown",
   "metadata": {},
   "source": [
    "Po definiciji operacijskog pojačala ```Uiz=A(U1-U2)```, gdje A teži ka beskonačno dolazimo do izraza ```U1=U2```  \n",
    "U idućem koraku rješimo gornje jednadžbe za varijable ```U1``` i ```U2```."
   ]
  },
  {
   "cell_type": "code",
   "execution_count": 16,
   "metadata": {},
   "outputs": [
    {
     "data": {
      "image/png": "[encoded data removed]",
      "text/latex": [
       "$$\\frac{Uul}{C L s^{2} + 1}$$"
      ],
      "text/plain": [
       "   Uul    \n",
       "──────────\n",
       "     2    \n",
       "C⋅L⋅s  + 1"
      ]
     },
     "metadata": {},
     "output_type": "display_data"
    },
    {
     "data": {
      "image/png": "[encoded data removed]",
      "text/latex": [
       "$$\\frac{R_{2} Uiz}{R_{1} + R_{2}}$$"
      ],
      "text/plain": [
       " R₂⋅Uiz\n",
       "───────\n",
       "R₁ + R₂"
      ]
     },
     "metadata": {},
     "output_type": "display_data"
    }
   ],
   "source": [
    "u1 = solve(eq1, U1)\n",
    "u2 = solve(eq2, U2)\n",
    "u1 = u1[0]\n",
    "u2 = u2[0]\n",
    "display(u1)\n",
    "display(u2)"
   ]
  },
  {
   "cell_type": "markdown",
   "metadata": {},
   "source": [
    "Vratimo se na definiciju ```U1 = U2```"
   ]
  },
  {
   "cell_type": "code",
   "execution_count": 17,
   "metadata": {},
   "outputs": [
    {
     "data": {
      "image/png": "[encoded data removed]",
      "text/latex": [
       "$$U_{1} = U_{2}$$"
      ],
      "text/plain": [
       "U₁ = U₂"
      ]
     },
     "metadata": {},
     "output_type": "display_data"
    }
   ],
   "source": [
    "eq3 = Eq(U1, U2)\n",
    "display(eq3)"
   ]
  },
  {
   "cell_type": "markdown",
   "metadata": {},
   "source": [
    "Te uvrstimo supstituciju s gore dobivenim izrazima za ```U1``` i ```U2```"
   ]
  },
  {
   "cell_type": "code",
   "execution_count": 18,
   "metadata": {},
   "outputs": [
    {
     "data": {
      "image/png": "[encoded data removed]",
      "text/latex": [
       "$$\\frac{Uul}{C L s^{2} + 1} = \\frac{R_{2} Uiz}{R_{1} + R_{2}}$$"
      ],
      "text/plain": [
       "   Uul        R₂⋅Uiz\n",
       "────────── = ───────\n",
       "     2       R₁ + R₂\n",
       "C⋅L⋅s  + 1          "
      ]
     },
     "metadata": {},
     "output_type": "display_data"
    }
   ],
   "source": [
    "eq3 = eq3.subs(U1, u1)\n",
    "eq3 = eq3.subs(U2, u2)\n",
    "display(eq3)"
   ]
  },
  {
   "cell_type": "markdown",
   "metadata": {},
   "source": [
    "Potom rješimo jednadžbu za varijablu ```Uiz``` te podijelimo s ```Uul```."
   ]
  },
  {
   "cell_type": "code",
   "execution_count": 19,
   "metadata": {},
   "outputs": [
    {
     "data": {
      "image/png": "[encoded data removed]",
      "text/latex": [
       "$$\\frac{Uul \\left(R_{1} + R_{2}\\right)}{R_{2} \\left(C L s^{2} + 1\\right)}$$"
      ],
      "text/plain": [
       " Uul⋅(R₁ + R₂) \n",
       "───────────────\n",
       "   ⎛     2    ⎞\n",
       "R₂⋅⎝C⋅L⋅s  + 1⎠"
      ]
     },
     "metadata": {},
     "output_type": "display_data"
    }
   ],
   "source": [
    "tf = solve(eq3, Uiz)\n",
    "tf = tf[0]\n",
    "display(tf)"
   ]
  },
  {
   "cell_type": "code",
   "execution_count": 20,
   "metadata": {},
   "outputs": [
    {
     "data": {
      "image/png": "[encoded data removed]",
      "text/latex": [
       "$$\\frac{R_{1} + R_{2}}{R_{2} \\left(C L s^{2} + 1\\right)}$$"
      ],
      "text/plain": [
       "    R₁ + R₂    \n",
       "───────────────\n",
       "   ⎛     2    ⎞\n",
       "R₂⋅⎝C⋅L⋅s  + 1⎠"
      ]
     },
     "metadata": {},
     "output_type": "display_data"
    }
   ],
   "source": [
    "tf = tf/Uul\n",
    "display(tf)"
   ]
  },
  {
   "cell_type": "markdown",
   "metadata": {},
   "source": [
    "Uvrstimo zadane vrijednosti parametara te supstituiramo."
   ]
  },
  {
   "cell_type": "code",
   "execution_count": 21,
   "metadata": {},
   "outputs": [],
   "source": [
    "r1 = 9\n",
    "r2 = 1\n",
    "l = 2\n",
    "c = 1"
   ]
  },
  {
   "cell_type": "code",
   "execution_count": 22,
   "metadata": {},
   "outputs": [
    {
     "data": {
      "image/png": "[encoded data removed]",
      "text/latex": [
       "$$\\frac{10}{2 s^{2} + 1}$$"
      ],
      "text/plain": [
       "   10   \n",
       "────────\n",
       "   2    \n",
       "2⋅s  + 1"
      ]
     },
     "metadata": {},
     "output_type": "display_data"
    }
   ],
   "source": [
    "tf = tf.subs(R1, r1)\n",
    "tf = tf.subs(R2, r2)\n",
    "tf = tf.subs(L, l)\n",
    "tf = tf.subs(C, c)\n",
    "display(tf)"
   ]
  }
 ],
 "metadata": {
  "kernelspec": {
   "display_name": "Python 3",
   "language": "python",
   "name": "python3"
  },
  "language_info": {
   "codemirror_mode": {
    "name": "ipython",
    "version": 3
   },
   "file_extension": ".py",
   "mimetype": "text/x-python",
   "name": "python",
   "nbconvert_exporter": "python",
   "pygments_lexer": "ipython3",
   "version": "3.7.3"
  }
 },
 "nbformat": 4,
 "nbformat_minor": 2
}

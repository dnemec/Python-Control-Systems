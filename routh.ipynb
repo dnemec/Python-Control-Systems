{
 "cells": [
  {
   "cell_type": "markdown",
   "metadata": {},
   "source": [
    "# Routhov kriterij stabilnosti\n",
    "\n",
    "Routhov kriterij stabilnosti bitna je analitička metoda analize stabilnosti sustava, u ovom slučaju Python uvelike pomaže za rješavanje Routhove tablice, no ne može u potpunosti dati izraze za područje stabilnosti sustava u slučajevima gdje imamo više varijabli; iz razloga što ```Sympy``` nije u mogućnosti rješavati nejednadžbe s više varijabli.\n",
    "\n",
    "Python funkcije koje se koriste za ove operacije dio su ```Sympy``` knjiznice.\n",
    "```python\n",
    "* symbols\n",
    "* Poly\n",
    "* Matrix\n",
    "* solve\n",
    "* plot_implicit\n",
    "* sympy.matrices.zeros\n",
    "```"
   ]
  },
  {
   "cell_type": "code",
   "execution_count": 1,
   "metadata": {},
   "outputs": [
    {
     "data": {
      "text/plain": [
       "0"
      ]
     },
     "execution_count": 1,
     "metadata": {},
     "output_type": "execute_result"
    }
   ],
   "source": [
    "import os\n",
    "clear = lambda: os.system('cls')\n",
    "clear()"
   ]
  },
  {
   "cell_type": "code",
   "execution_count": 2,
   "metadata": {},
   "outputs": [],
   "source": [
    "from sympy.interactive import printing\n",
    "printing.init_printing(use_latex=True)\n",
    "\n",
    "from sympy import symbols, Poly, Matrix, solve, plot_implicit, reduce_inequalities\n",
    "from sympy.matrices import zeros\n",
    "s = symbols('s')"
   ]
  },
  {
   "cell_type": "markdown",
   "metadata": {},
   "source": [
    "## Funkcija za računanje Routhovog kriterija stabilnosti\n",
    "Iz razloga što ```Control Systems Library``` nema definiranu funkciju za računanje Routhovog kriterija stabilnosti potrebno ju je definirati."
   ]
  },
  {
   "cell_type": "code",
   "execution_count": 3,
   "metadata": {},
   "outputs": [],
   "source": [
    "def routhHurwitz(Ts,*args):\n",
    "    den = Poly(Ts.as_numer_denom()[1],s).all_coeffs()\n",
    "    n = len(den)-1\n",
    "    if n < 2:\n",
    "        return None\n",
    "    m = zeros(n+1)\n",
    "    # Insert the first two rows\n",
    "    c = [den[i] for i in range(0,n+1,2)]\n",
    "    for i in range(0,len(c)):\n",
    "        m[0,i] = c[i]\n",
    "    c = [den[i] for i in range(1,n+1,2)]\n",
    "    for i in range(0,len(c)):\n",
    "        m[1,i] = c[i]\n",
    "\n",
    "    for i in range(2,n+1):\n",
    "        for j in range(1,n):\n",
    "            if m[i-1,j] == 0:\n",
    "                m[i,j-1] = m[i-2,j]\n",
    "            elif m[i-1,0] !=0:\n",
    "                m[i,j-1] = ((m[i-1,0]*m[i-2,j]-m[i-2,0]*m[i-1,j])/m[i-1,0]).together().simplify()\n",
    "          \n",
    "      \n",
    "    m = m.col_insert(0, Matrix(([s**(n-i) for i in range(0,n+1)])))\n",
    "    return m"
   ]
  },
  {
   "cell_type": "code",
   "execution_count": 4,
   "metadata": {},
   "outputs": [
    {
     "data": {
      "image/png": "[encoded data removed]",
      "text/latex": [
       "$$\\frac{s}{s^{3} + 2 s^{2} + 4 s + 12}$$"
      ],
      "text/plain": [
       "         s          \n",
       "────────────────────\n",
       " 3      2           \n",
       "s  + 2⋅s  + 4⋅s + 12"
      ]
     },
     "metadata": {},
     "output_type": "display_data"
    }
   ],
   "source": [
    "tf = (s / (s**3+2*s**2+4*s+12))\n",
    "display(tf)"
   ]
  },
  {
   "cell_type": "markdown",
   "metadata": {},
   "source": [
    "Putem funkcije ```routhHurwitz()``` dobivamo Routhovu tablicu."
   ]
  },
  {
   "cell_type": "code",
   "execution_count": 5,
   "metadata": {},
   "outputs": [
    {
     "data": {
      "text/latex": [
       "$$\\left[\\begin{matrix}s^{3} & 1 & 4 & 0 & 0\\\\s^{2} & 2 & 12 & 0 & 0\\\\s & -2 & 0 & 0 & 0\\\\1 & 12 & 0 & 0 & 0\\end{matrix}\\right]$$"
      ],
      "text/plain": [
       "⎡ 3              ⎤\n",
       "⎢s   1   4   0  0⎥\n",
       "⎢                ⎥\n",
       "⎢ 2              ⎥\n",
       "⎢s   2   12  0  0⎥\n",
       "⎢                ⎥\n",
       "⎢s   -2  0   0  0⎥\n",
       "⎢                ⎥\n",
       "⎣1   12  0   0  0⎦"
      ]
     },
     "execution_count": 5,
     "metadata": {},
     "output_type": "execute_result"
    }
   ],
   "source": [
    "routhHurwitz(tf)"
   ]
  },
  {
   "cell_type": "markdown",
   "metadata": {},
   "source": [
    "### Primjer 2: Osnove Regulacijske Tehnike - Stabilnost sustava - Primjer 8"
   ]
  },
  {
   "cell_type": "code",
   "execution_count": 6,
   "metadata": {},
   "outputs": [
    {
     "data": {
      "image/png": "[encoded data removed]",
      "text/latex": [
       "$$\\frac{10 K s + 30 K}{30 K + s^{4} + 3 s^{3} + 4 s^{2} + s \\left(10 K + 4\\right)}$$"
      ],
      "text/plain": [
       "            10⋅K⋅s + 30⋅K             \n",
       "──────────────────────────────────────\n",
       "        4      3      2               \n",
       "30⋅K + s  + 3⋅s  + 4⋅s  + s⋅(10⋅K + 4)"
      ]
     },
     "metadata": {},
     "output_type": "display_data"
    }
   ],
   "source": [
    "K = symbols('K')\n",
    "tf = ((10*K*s+30*K) / (s**4+3*s**3+4*s**2+(10*K+4)*s+30*K))\n",
    "display(tf)"
   ]
  },
  {
   "cell_type": "code",
   "execution_count": 7,
   "metadata": {},
   "outputs": [
    {
     "data": {
      "text/latex": [
       "$$\\left[\\begin{matrix}s^{4} & 1 & 4 & 30 K & 0 & 0\\\\s^{3} & 3 & 10 K + 4 & 0 & 0 & 0\\\\s^{2} & - \\frac{10 K}{3} + \\frac{8}{3} & 30 K & 0 & 0 & 0\\\\s & \\frac{50 K^{2} + 115 K - 16}{5 K - 4} & 0 & 0 & 0 & 0\\\\1 & 30 K & 0 & 0 & 0 & 0\\end{matrix}\\right]$$"
      ],
      "text/plain": [
       "⎡ 4                                          ⎤\n",
       "⎢s           1              4      30⋅K  0  0⎥\n",
       "⎢                                            ⎥\n",
       "⎢ 3                                          ⎥\n",
       "⎢s           3           10⋅K + 4   0    0  0⎥\n",
       "⎢                                            ⎥\n",
       "⎢ 2        10⋅K   8                          ⎥\n",
       "⎢s       - ──── + ─        30⋅K     0    0  0⎥\n",
       "⎢           3     3                          ⎥\n",
       "⎢                                            ⎥\n",
       "⎢        2                                   ⎥\n",
       "⎢    50⋅K  + 115⋅K - 16                      ⎥\n",
       "⎢s   ──────────────────     0       0    0  0⎥\n",
       "⎢         5⋅K - 4                            ⎥\n",
       "⎢                                            ⎥\n",
       "⎣1          30⋅K            0       0    0  0⎦"
      ]
     },
     "metadata": {},
     "output_type": "display_data"
    }
   ],
   "source": [
    "matrica = routhHurwitz(tf)\n",
    "display(matrica)"
   ]
  },
  {
   "cell_type": "code",
   "execution_count": 8,
   "metadata": {},
   "outputs": [
    {
     "data": {
      "image/png": "[encoded data removed]",
      "text/latex": [
       "$$30 K > 0$$"
      ],
      "text/plain": [
       "30⋅K > 0"
      ]
     },
     "metadata": {},
     "output_type": "display_data"
    },
    {
     "data": {
      "text/plain": [
       "<Figure size 640x480 with 1 Axes>"
      ]
     },
     "metadata": {},
     "output_type": "display_data"
    },
    {
     "data": {
      "image/png": "[encoded data removed]",
      "text/latex": [
       "$$0 < K \\wedge K < \\infty$$"
      ],
      "text/plain": [
       "0 < K ∧ K < ∞"
      ]
     },
     "execution_count": 8,
     "metadata": {},
     "output_type": "execute_result"
    }
   ],
   "source": [
    "uvjet1 = matrica[0, 3]\n",
    "uvjet1 = uvjet1>0\n",
    "display(uvjet1)\n",
    "plot_implicit(uvjet1)\n",
    "solve(uvjet1)"
   ]
  },
  {
   "cell_type": "code",
   "execution_count": 9,
   "metadata": {},
   "outputs": [
    {
     "data": {
      "image/png": "[encoded data removed]",
      "text/latex": [
       "$$10 K + 4 > 0$$"
      ],
      "text/plain": [
       "10⋅K + 4 > 0"
      ]
     },
     "metadata": {},
     "output_type": "display_data"
    },
    {
     "data": {
      "image/png": "[encoded data removed]",
      "text/plain": [
       "<Figure size 432x288 with 1 Axes>"
      ]
     },
     "metadata": {
      "needs_background": "light"
     },
     "output_type": "display_data"
    },
    {
     "data": {
      "image/png": "[encoded data removed]",
      "text/latex": [
       "$$- \\frac{2}{5} < K \\wedge K < \\infty$$"
      ],
      "text/plain": [
       "-2/5 < K ∧ K < ∞"
      ]
     },
     "execution_count": 9,
     "metadata": {},
     "output_type": "execute_result"
    }
   ],
   "source": [
    "uvjet2 = matrica[1,2]\n",
    "uvjet2 = uvjet2>0\n",
    "display(uvjet2)\n",
    "plot_implicit(uvjet2)\n",
    "solve(uvjet2)"
   ]
  },
  {
   "cell_type": "code",
   "execution_count": 10,
   "metadata": {},
   "outputs": [
    {
     "data": {
      "image/png": "[encoded data removed]",
      "text/latex": [
       "$$- \\frac{10 K}{3} + \\frac{8}{3} > 0$$"
      ],
      "text/plain": [
       "  10⋅K   8    \n",
       "- ──── + ─ > 0\n",
       "   3     3    "
      ]
     },
     "metadata": {},
     "output_type": "display_data"
    },
    {
     "data": {
      "image/png": "[encoded data removed]",
      "text/plain": [
       "<Figure size 432x288 with 1 Axes>"
      ]
     },
     "metadata": {
      "needs_background": "light"
     },
     "output_type": "display_data"
    },
    {
     "data": {
      "image/png": "[encoded data removed]",
      "text/latex": [
       "$$-\\infty < K \\wedge K < \\frac{4}{5}$$"
      ],
      "text/plain": [
       "-∞ < K ∧ K < 4/5"
      ]
     },
     "execution_count": 10,
     "metadata": {},
     "output_type": "execute_result"
    }
   ],
   "source": [
    "uvjet3 = matrica[2, 1]\n",
    "uvjet3 = uvjet3>0\n",
    "display(uvjet3)\n",
    "plot_implicit(uvjet3)\n",
    "solve(uvjet3)"
   ]
  },
  {
   "cell_type": "code",
   "execution_count": 11,
   "metadata": {},
   "outputs": [
    {
     "data": {
      "image/png": "[encoded data removed]",
      "text/latex": [
       "$$30 K > 0$$"
      ],
      "text/plain": [
       "30⋅K > 0"
      ]
     },
     "metadata": {},
     "output_type": "display_data"
    },
    {
     "data": {
      "image/png": "[encoded data removed]",
      "text/plain": [
       "<Figure size 432x288 with 1 Axes>"
      ]
     },
     "metadata": {
      "needs_background": "light"
     },
     "output_type": "display_data"
    },
    {
     "data": {
      "image/png": "[encoded data removed]",
      "text/latex": [
       "$$0 < K \\wedge K < \\infty$$"
      ],
      "text/plain": [
       "0 < K ∧ K < ∞"
      ]
     },
     "execution_count": 11,
     "metadata": {},
     "output_type": "execute_result"
    }
   ],
   "source": [
    "uvjet4 = matrica[2, 2]\n",
    "uvjet4 = uvjet4>0\n",
    "display(uvjet4)\n",
    "plot_implicit(uvjet4)\n",
    "solve(uvjet4)"
   ]
  },
  {
   "cell_type": "code",
   "execution_count": 12,
   "metadata": {
    "scrolled": true
   },
   "outputs": [
    {
     "data": {
      "image/png": "[encoded data removed]",
      "text/latex": [
       "$$\\frac{50 K^{2} + 115 K - 16}{5 K - 4} > 0$$"
      ],
      "text/plain": [
       "    2                 \n",
       "50⋅K  + 115⋅K - 16    \n",
       "────────────────── > 0\n",
       "     5⋅K - 4          "
      ]
     },
     "metadata": {},
     "output_type": "display_data"
    },
    {
     "data": {
      "image/png": "[encoded data removed]",
      "text/plain": [
       "<Figure size 432x288 with 1 Axes>"
      ]
     },
     "metadata": {
      "needs_background": "light"
     },
     "output_type": "display_data"
    },
    {
     "data": {
      "image/png": "[encoded data removed]",
      "text/latex": [
       "$$\\left(\\frac{4}{5} < K \\wedge K < \\infty\\right) \\vee \\left(K < - \\frac{23}{20} + \\frac{3 \\sqrt{73}}{20} \\wedge - \\frac{3 \\sqrt{73}}{20} - \\frac{23}{20} < K\\right)$$"
      ],
      "text/plain": [
       "                    ⎛      23   3⋅√73     3⋅√73   23    ⎞\n",
       "(4/5 < K ∧ K < ∞) ∨ ⎜K < - ── + ───── ∧ - ───── - ── < K⎟\n",
       "                    ⎝      20     20        20    20    ⎠"
      ]
     },
     "execution_count": 12,
     "metadata": {},
     "output_type": "execute_result"
    }
   ],
   "source": [
    "uvjet5 = matrica[3, 1]\n",
    "uvjet5 = uvjet5>0\n",
    "display(uvjet5)\n",
    "plot_implicit(uvjet5)\n",
    "solve(uvjet5)"
   ]
  },
  {
   "cell_type": "code",
   "execution_count": 13,
   "metadata": {},
   "outputs": [
    {
     "data": {
      "image/png": "[encoded data removed]",
      "text/latex": [
       "$$30 K > 0$$"
      ],
      "text/plain": [
       "30⋅K > 0"
      ]
     },
     "metadata": {},
     "output_type": "display_data"
    },
    {
     "data": {
      "image/png": "[encoded data removed]",
      "text/plain": [
       "<Figure size 432x288 with 1 Axes>"
      ]
     },
     "metadata": {
      "needs_background": "light"
     },
     "output_type": "display_data"
    },
    {
     "data": {
      "image/png": "[encoded data removed]",
      "text/latex": [
       "$$0 < K \\wedge K < \\infty$$"
      ],
      "text/plain": [
       "0 < K ∧ K < ∞"
      ]
     },
     "execution_count": 13,
     "metadata": {},
     "output_type": "execute_result"
    }
   ],
   "source": [
    "uvjet6 = matrica[4, 1]\n",
    "uvjet6 = uvjet6>0\n",
    "display(uvjet6)\n",
    "plot_implicit(uvjet6)\n",
    "solve(uvjet6)"
   ]
  },
  {
   "cell_type": "markdown",
   "metadata": {},
   "source": [
    "## Primjer 3: Osnove Regulacijske Tehnike - Stabilnost sustava - Primjer 7"
   ]
  },
  {
   "cell_type": "markdown",
   "metadata": {},
   "source": [
    "```Sympy``` ne može rješavati nejednadžbe s više varijabli, no i dalje smo u mogućnosti dobiti Routhov kriterij stabilnosti te grafički prikazati stabilno područje ```plot_implicit(NEJEDNAKOST)``` funkcijom.  \n",
    "  \n",
    "Potrebno je obratiti pažnju na što je u prikazu, u slučajevima s dvije varijable prikaz ne mora značiti područje stabilnosti."
   ]
  },
  {
   "cell_type": "code",
   "execution_count": 14,
   "metadata": {},
   "outputs": [],
   "source": [
    "K1, K2 = symbols('K1 K2', real=True, rational=True)\n",
    "T1, T2 = symbols('T1 T2')\n",
    "t1 = 0.05\n",
    "t2 = 0.1"
   ]
  },
  {
   "cell_type": "code",
   "execution_count": 15,
   "metadata": {},
   "outputs": [
    {
     "data": {
      "image/png": "[encoded data removed]",
      "text/latex": [
       "$$\\frac{K_{1} K_{2}}{K_{1} K_{2} + K_{2} + T_{1} T_{2} s^{3} + s^{2} \\left(T_{1} + T_{2}\\right) + s \\left(K_{2} T_{1} + 1\\right)}$$"
      ],
      "text/plain": [
       "                       K₁⋅K₂                        \n",
       "────────────────────────────────────────────────────\n",
       "                    3    2                          \n",
       "K₁⋅K₂ + K₂ + T₁⋅T₂⋅s  + s ⋅(T₁ + T₂) + s⋅(K₂⋅T₁ + 1)"
      ]
     },
     "metadata": {},
     "output_type": "display_data"
    },
    {
     "data": {
      "image/png": "[encoded data removed]",
      "text/latex": [
       "$$\\frac{K_{1} K_{2}}{K_{1} K_{2} + K_{2} + 0.005 s^{3} + 0.15 s^{2} + s \\left(0.05 K_{2} + 1\\right)}$$"
      ],
      "text/plain": [
       "                      K₁⋅K₂                      \n",
       "─────────────────────────────────────────────────\n",
       "                    3         2                  \n",
       "K₁⋅K₂ + K₂ + 0.005⋅s  + 0.15⋅s  + s⋅(0.05⋅K₂ + 1)"
      ]
     },
     "metadata": {},
     "output_type": "display_data"
    }
   ],
   "source": [
    "tf = (K1*K2) / ((T1*T2*s**3) + (T1+T2)*s**2 + (1+T1*K2)*s + K2 + (K1*K2))\n",
    "display(tf)\n",
    "tf = tf.subs(T1, t1)\n",
    "tf = tf.subs(T2, t2)\n",
    "display(tf)"
   ]
  },
  {
   "cell_type": "code",
   "execution_count": 16,
   "metadata": {},
   "outputs": [
    {
     "data": {
      "text/latex": [
       "$$\\left[\\begin{matrix}s^{3} & 0.005 & 0.05 K_{2} + 1.0 & 0 & 0\\\\s^{2} & 0.15 & 1.0 K_{1} K_{2} + 1.0 K_{2} & 0 & 0\\\\s & - 0.0333333333333333 K_{1} K_{2} + 0.0166666666666667 K_{2} + 1.0 & 0 & 0 & 0\\\\1 & 1.0 K_{1} K_{2} + 1.0 K_{2} & 0 & 0 & 0\\end{matrix}\\right]$$"
      ],
      "text/plain": [
       "⎡ 3                                                                           \n",
       "⎢s                            0.005                             0.05⋅K₂ + 1.0 \n",
       "⎢                                                                             \n",
       "⎢ 2                                                                           \n",
       "⎢s                            0.15                            1.0⋅K₁⋅K₂ + 1.0⋅\n",
       "⎢                                                                             \n",
       "⎢s   -0.0333333333333333⋅K₁⋅K₂ + 0.0166666666666667⋅K₂ + 1.0          0       \n",
       "⎢                                                                             \n",
       "⎣1                     1.0⋅K₁⋅K₂ + 1.0⋅K₂                             0       \n",
       "\n",
       "        ⎤\n",
       "    0  0⎥\n",
       "        ⎥\n",
       "        ⎥\n",
       "K₂  0  0⎥\n",
       "        ⎥\n",
       "    0  0⎥\n",
       "        ⎥\n",
       "    0  0⎦"
      ]
     },
     "metadata": {},
     "output_type": "display_data"
    }
   ],
   "source": [
    "matrica = routhHurwitz(tf)\n",
    "display(matrica)"
   ]
  },
  {
   "cell_type": "markdown",
   "metadata": {},
   "source": [
    "U slučajevima gdje prikazujemo graf u zavisnosti dvije varijable, recimo u ovom slučaju ```K1``` i ```K2```; možemo definirati koja os u grafu se odnosi na koju varijablu putem argumenta  \n",
    "```... , y_var=K1, x_var=K2)``` u funkciji ```plot_implicit(NEJEDNAKOST, ARGUMENT)```"
   ]
  },
  {
   "cell_type": "code",
   "execution_count": 17,
   "metadata": {},
   "outputs": [
    {
     "data": {
      "image/png": "[encoded data removed]",
      "text/latex": [
       "$$0.05 K_{2} + 1.0 > 0$$"
      ],
      "text/plain": [
       "0.05⋅K₂ + 1.0 > 0"
      ]
     },
     "metadata": {},
     "output_type": "display_data"
    },
    {
     "data": {
      "image/png": "[encoded data removed]",
      "text/plain": [
       "<Figure size 432x288 with 1 Axes>"
      ]
     },
     "metadata": {
      "needs_background": "light"
     },
     "output_type": "display_data"
    },
    {
     "data": {
      "image/png": "[encoded data removed]",
      "text/latex": [
       "$$-20.0 < K_{2} \\wedge K_{2} < \\infty$$"
      ],
      "text/plain": [
       "-20.0 < K₂ ∧ K₂ < inf"
      ]
     },
     "execution_count": 17,
     "metadata": {},
     "output_type": "execute_result"
    }
   ],
   "source": [
    "uvjet1 = matrica[0,2]\n",
    "uvjet1 = uvjet1>0\n",
    "display(uvjet1)\n",
    "plot_implicit(uvjet1, y_var=K1, x_var=K2)\n",
    "solve(uvjet1)"
   ]
  },
  {
   "cell_type": "code",
   "execution_count": 18,
   "metadata": {},
   "outputs": [
    {
     "data": {
      "image/png": "[encoded data removed]",
      "text/latex": [
       "$$1.0 K_{1} K_{2} + 1.0 K_{2} > 0$$"
      ],
      "text/plain": [
       "1.0⋅K₁⋅K₂ + 1.0⋅K₂ > 0"
      ]
     },
     "metadata": {},
     "output_type": "display_data"
    },
    {
     "data": {
      "image/png": "[encoded data removed]",
      "text/plain": [
       "<Figure size 432x288 with 1 Axes>"
      ]
     },
     "metadata": {
      "needs_background": "light"
     },
     "output_type": "display_data"
    },
    {
     "data": {
      "text/plain": [
       "<sympy.plotting.plot.Plot at 0x1c64264bbe0>"
      ]
     },
     "execution_count": 18,
     "metadata": {},
     "output_type": "execute_result"
    }
   ],
   "source": [
    "uvjet2 = matrica[1, 2]\n",
    "uvjet2 = uvjet2>0\n",
    "display(uvjet2)\n",
    "plot_implicit(uvjet2, y_var=K1, x_var=K2)"
   ]
  },
  {
   "cell_type": "code",
   "execution_count": 19,
   "metadata": {},
   "outputs": [
    {
     "data": {
      "image/png": "[encoded data removed]",
      "text/latex": [
       "$$- 0.0333333333333333 K_{1} K_{2} + 0.0166666666666667 K_{2} + 1.0 > 0$$"
      ],
      "text/plain": [
       "-0.0333333333333333⋅K₁⋅K₂ + 0.0166666666666667⋅K₂ + 1.0 > 0"
      ]
     },
     "metadata": {},
     "output_type": "display_data"
    },
    {
     "data": {
      "image/png": "[encoded data removed]",
      "text/plain": [
       "<Figure size 432x288 with 1 Axes>"
      ]
     },
     "metadata": {
      "needs_background": "light"
     },
     "output_type": "display_data"
    },
    {
     "data": {
      "text/plain": [
       "<sympy.plotting.plot.Plot at 0x1c6437fd710>"
      ]
     },
     "execution_count": 19,
     "metadata": {},
     "output_type": "execute_result"
    }
   ],
   "source": [
    "uvjet3 = matrica[2, 1]\n",
    "uvjet3 = uvjet3>0\n",
    "display(uvjet3)\n",
    "plot_implicit(uvjet3, y_var=K1, x_var=K2)"
   ]
  },
  {
   "cell_type": "code",
   "execution_count": 20,
   "metadata": {},
   "outputs": [
    {
     "data": {
      "image/png": "[encoded data removed]",
      "text/latex": [
       "$$1.0 K_{1} K_{2} + 1.0 K_{2} > 0$$"
      ],
      "text/plain": [
       "1.0⋅K₁⋅K₂ + 1.0⋅K₂ > 0"
      ]
     },
     "metadata": {},
     "output_type": "display_data"
    },
    {
     "data": {
      "image/png": "[encoded data removed]",
      "text/plain": [
       "<Figure size 432x288 with 1 Axes>"
      ]
     },
     "metadata": {
      "needs_background": "light"
     },
     "output_type": "display_data"
    },
    {
     "data": {
      "text/plain": [
       "<sympy.plotting.plot.Plot at 0x1c6425e6860>"
      ]
     },
     "execution_count": 20,
     "metadata": {},
     "output_type": "execute_result"
    }
   ],
   "source": [
    "uvjet4 = matrica[3, 1]\n",
    "uvjet4 = uvjet4>0\n",
    "display(uvjet4)\n",
    "plot_implicit(uvjet4, y_var=K1, x_var=K2)"
   ]
  }
 ],
 "metadata": {
  "kernelspec": {
   "display_name": "Python 3",
   "language": "python",
   "name": "python3"
  },
  "language_info": {
   "codemirror_mode": {
    "name": "ipython",
    "version": 3
   },
   "file_extension": ".py",
   "mimetype": "text/x-python",
   "name": "python",
   "nbconvert_exporter": "python",
   "pygments_lexer": "ipython3",
   "version": "3.7.3"
  }
 },
 "nbformat": 4,
 "nbformat_minor": 2
}
